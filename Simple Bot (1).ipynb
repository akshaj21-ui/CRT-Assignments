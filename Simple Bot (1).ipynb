{
 "cells": [
  {
   "cell_type": "code",
   "execution_count": 1,
   "id": "1d5c62dc",
   "metadata": {},
   "outputs": [
    {
     "name": "stdout",
     "output_type": "stream",
     "text": [
      "Requirement already satisfied: SpeechRecognition in c:\\users\\mourya\\anaconda3\\lib\\site-packages (3.13.0)\n",
      "Requirement already satisfied: typing-extensions in c:\\users\\mourya\\anaconda3\\lib\\site-packages (from SpeechRecognition) (4.7.1)\n",
      "Note: you may need to restart the kernel to use updated packages.\n"
     ]
    }
   ],
   "source": [
    "pip install SpeechRecognition\n"
   ]
  },
  {
   "cell_type": "code",
   "execution_count": 2,
   "id": "fc153ef2",
   "metadata": {},
   "outputs": [
    {
     "name": "stdout",
     "output_type": "stream",
     "text": [
      "Requirement already satisfied: pyaudio in c:\\users\\mourya\\anaconda3\\lib\\site-packages (0.2.14)\n",
      "Note: you may need to restart the kernel to use updated packages.\n"
     ]
    }
   ],
   "source": [
    "pip install pyaudio\n"
   ]
  },
  {
   "cell_type": "code",
   "execution_count": 3,
   "id": "8c679ffa",
   "metadata": {},
   "outputs": [
    {
     "name": "stdout",
     "output_type": "stream",
     "text": [
      "Requirement already satisfied: pyttsx3 in c:\\users\\mourya\\anaconda3\\lib\\site-packages (2.98)\n",
      "Requirement already satisfied: comtypes in c:\\users\\mourya\\anaconda3\\lib\\site-packages (from pyttsx3) (1.4.9)\n",
      "Requirement already satisfied: pypiwin32 in c:\\users\\mourya\\anaconda3\\lib\\site-packages (from pyttsx3) (223)\n",
      "Requirement already satisfied: pywin32 in c:\\users\\mourya\\anaconda3\\lib\\site-packages (from pyttsx3) (305.1)\n",
      "Note: you may need to restart the kernel to use updated packages.\n"
     ]
    }
   ],
   "source": [
    "pip install pyttsx3\n"
   ]
  },
  {
   "cell_type": "code",
   "execution_count": null,
   "id": "2c4c9f0f",
   "metadata": {},
   "outputs": [
    {
     "name": "stdout",
     "output_type": "stream",
     "text": [
      "you:hello\n",
      "you:hello\n",
      "you:hi\n",
      "you:hello\n",
      "you:hello\n"
     ]
    }
   ],
   "source": [
    "import pyttsx3\n",
    "\n",
    "engine=pyttsx3.init()\n",
    "\n",
    "def speak(text):\n",
    "    \"\"\" make this assistant speak\"\"\"\n",
    "    engine.say(text)\n",
    "    engine.runAndWait() \n",
    "    \n",
    "def main():\n",
    "    speak(\"hello i am your simple bot from malla  reddy university\")\n",
    "    speak(\"you can say hello, ask my name, or say goodbye\")\n",
    "    \n",
    "    while True:\n",
    "        \n",
    "        command=input(\"you:\").lower()\n",
    "        \n",
    "        if \"hello\" in command:\n",
    "            speak(\"hi there! welcom to malla reddy university\")\n",
    "        elif \"what is your name\" in command:\n",
    "            speak(\"my name is simple bot from malla reddy university\")\n",
    "        elif \"goodbye\" in command:\n",
    "            speak(\"goodbye\")\n",
    "            break\n",
    "        else:\n",
    "            speak(\"i didn't understand that. please try again\")\n",
    "            \n",
    "if __name__ == \"__main__\":\n",
    "    main()"
   ]
  },
  {
   "cell_type": "code",
   "execution_count": null,
   "id": "009059f0",
   "metadata": {},
   "outputs": [],
   "source": []
  }
 ],
 "metadata": {
  "kernelspec": {
   "display_name": "Python 3 (ipykernel)",
   "language": "python",
   "name": "python3"
  },
  "language_info": {
   "codemirror_mode": {
    "name": "ipython",
    "version": 3
   },
   "file_extension": ".py",
   "mimetype": "text/x-python",
   "name": "python",
   "nbconvert_exporter": "python",
   "pygments_lexer": "ipython3",
   "version": "3.11.4"
  }
 },
 "nbformat": 4,
 "nbformat_minor": 5
}
