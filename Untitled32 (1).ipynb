{
 "cells": [
  {
   "cell_type": "code",
   "execution_count": 1,
   "id": "4bd188f6",
   "metadata": {},
   "outputs": [
    {
     "name": "stdout",
     "output_type": "stream",
     "text": [
      " Enter a number:13\n"
     ]
    }
   ],
   "source": [
    "x=int(input(' Enter a number:'))"
   ]
  },
  {
   "cell_type": "code",
   "execution_count": 2,
   "id": "46bdc9a5",
   "metadata": {},
   "outputs": [
    {
     "data": {
      "text/plain": [
       "13"
      ]
     },
     "execution_count": 2,
     "metadata": {},
     "output_type": "execute_result"
    }
   ],
   "source": [
    "x"
   ]
  },
  {
   "cell_type": "code",
   "execution_count": 4,
   "id": "de94bac8",
   "metadata": {},
   "outputs": [
    {
     "name": "stdout",
     "output_type": "stream",
     "text": [
      "True\n",
      "False\n",
      "False\n",
      "False\n",
      "False\n",
      "False\n",
      "False\n",
      "False\n",
      "False\n",
      "False\n",
      "False\n",
      "False\n",
      "True\n"
     ]
    }
   ],
   "source": [
    "for i in range (1,x+1):\n",
    "    print(x%i == 0)"
   ]
  },
  {
   "cell_type": "code",
   "execution_count": 6,
   "id": "48e7dcbb",
   "metadata": {},
   "outputs": [],
   "source": [
    "num_factors = 0"
   ]
  },
  {
   "cell_type": "code",
   "execution_count": 11,
   "id": "a0e995f9",
   "metadata": {},
   "outputs": [
    {
     "name": "stdout",
     "output_type": "stream",
     "text": [
      "True\n",
      "False\n",
      "False\n",
      "False\n",
      "False\n",
      "False\n",
      "False\n",
      "False\n",
      "False\n",
      "False\n",
      "False\n",
      "False\n",
      "True\n",
      "not prime\n"
     ]
    }
   ],
   "source": [
    "for i in range (1,x+1):\n",
    "    print(x%i == 0)\n",
    "    num_factors = num_factors+1\n",
    "if(num_factors)==2:\n",
    "        print('prime')\n",
    "else:\n",
    "    print('not prime')"
   ]
  },
  {
   "cell_type": "code",
   "execution_count": 15,
   "id": "3bc2740f",
   "metadata": {},
   "outputs": [
    {
     "name": "stdout",
     "output_type": "stream",
     "text": [
      "26\n"
     ]
    }
   ],
   "source": [
    "print (x + x)"
   ]
  },
  {
   "cell_type": "code",
   "execution_count": 16,
   "id": "3fe0d0d7",
   "metadata": {},
   "outputs": [
    {
     "name": "stdout",
     "output_type": "stream",
     "text": [
      "13\n"
     ]
    }
   ],
   "source": [
    "print(x|x)"
   ]
  },
  {
   "cell_type": "code",
   "execution_count": 17,
   "id": "7502358b",
   "metadata": {},
   "outputs": [],
   "source": [
    "import math"
   ]
  },
  {
   "cell_type": "code",
   "execution_count": 18,
   "id": "2594251f",
   "metadata": {},
   "outputs": [
    {
     "data": {
      "text/plain": [
       "7"
      ]
     },
     "execution_count": 18,
     "metadata": {},
     "output_type": "execute_result"
    }
   ],
   "source": [
    "math.floor(7.9)"
   ]
  },
  {
   "cell_type": "code",
   "execution_count": 19,
   "id": "2ca9c7d2",
   "metadata": {},
   "outputs": [
    {
     "data": {
      "text/plain": [
       "8"
      ]
     },
     "execution_count": 19,
     "metadata": {},
     "output_type": "execute_result"
    }
   ],
   "source": [
    "math.ceil(7.9)"
   ]
  },
  {
   "cell_type": "code",
   "execution_count": 23,
   "id": "508ac3af",
   "metadata": {},
   "outputs": [],
   "source": [
    "l = [1,4,4,3,5,4,2,3,1,3,5,6,4,3]\n",
    "string= 'ngfdbajgdqhgdhd'"
   ]
  },
  {
   "cell_type": "code",
   "execution_count": 24,
   "id": "79633b0f",
   "metadata": {},
   "outputs": [],
   "source": [
    "d = {}"
   ]
  },
  {
   "cell_type": "code",
   "execution_count": 33,
   "id": "a4bc4e4b",
   "metadata": {},
   "outputs": [],
   "source": [
    "for i in l:\n",
    "    d[i] = l.count(i)"
   ]
  },
  {
   "cell_type": "code",
   "execution_count": 27,
   "id": "1141b8d5",
   "metadata": {},
   "outputs": [
    {
     "data": {
      "text/plain": [
       "{1: 2, 4: 4, 3: 4, 5: 2, 2: 1, 6: 1}"
      ]
     },
     "execution_count": 27,
     "metadata": {},
     "output_type": "execute_result"
    }
   ],
   "source": [
    "d"
   ]
  },
  {
   "cell_type": "code",
   "execution_count": 31,
   "id": "fb7dc3fa",
   "metadata": {},
   "outputs": [],
   "source": [
    "for i in string:\n",
    "    d[i] = string.count(i)"
   ]
  },
  {
   "cell_type": "code",
   "execution_count": 32,
   "id": "d83a82cf",
   "metadata": {},
   "outputs": [
    {
     "data": {
      "text/plain": [
       "{1: 2,\n",
       " 4: 4,\n",
       " 3: 4,\n",
       " 5: 2,\n",
       " 2: 1,\n",
       " 6: 1,\n",
       " 'n': 1,\n",
       " 'g': 3,\n",
       " 'f': 1,\n",
       " 'd': 4,\n",
       " 'b': 1,\n",
       " 'a': 1,\n",
       " 'j': 1,\n",
       " 'q': 1,\n",
       " 'h': 2}"
      ]
     },
     "execution_count": 32,
     "metadata": {},
     "output_type": "execute_result"
    }
   ],
   "source": [
    "d"
   ]
  },
  {
   "cell_type": "code",
   "execution_count": 34,
   "id": "ace4c6ef",
   "metadata": {},
   "outputs": [],
   "source": [
    "l2=[1,2,1,1,1,1,2,1,2,1]"
   ]
  },
  {
   "cell_type": "code",
   "execution_count": 36,
   "id": "52c274df",
   "metadata": {},
   "outputs": [],
   "source": [
    "d={}"
   ]
  },
  {
   "cell_type": "code",
   "execution_count": 39,
   "id": "0606e471",
   "metadata": {},
   "outputs": [],
   "source": [
    "for i in l2:\n",
    "    d[i] = l2.count(i)"
   ]
  },
  {
   "cell_type": "code",
   "execution_count": 41,
   "id": "a200671a",
   "metadata": {},
   "outputs": [
    {
     "data": {
      "text/plain": [
       "{1: 7, 4: 4, 3: 4, 5: 2, 2: 3, 6: 1}"
      ]
     },
     "execution_count": 41,
     "metadata": {},
     "output_type": "execute_result"
    }
   ],
   "source": [
    "d"
   ]
  },
  {
   "cell_type": "code",
   "execution_count": 45,
   "id": "f3d21a2b",
   "metadata": {},
   "outputs": [],
   "source": [
    "seen_nums =[]"
   ]
  },
  {
   "cell_type": "code",
   "execution_count": 46,
   "id": "c7ebf7ef",
   "metadata": {},
   "outputs": [],
   "source": [
    "for i in l:\n",
    "    if i not in seen_nums:\n",
    "        d[i] = l.count(i)\n",
    "        seen_nums.append(i)"
   ]
  },
  {
   "cell_type": "code",
   "execution_count": 47,
   "id": "9544135b",
   "metadata": {},
   "outputs": [
    {
     "data": {
      "text/plain": [
       "{1: 2, 4: 4, 3: 4, 5: 2, 2: 1, 6: 1}"
      ]
     },
     "execution_count": 47,
     "metadata": {},
     "output_type": "execute_result"
    }
   ],
   "source": [
    "d"
   ]
  },
  {
   "cell_type": "code",
   "execution_count": 49,
   "id": "836050bd",
   "metadata": {},
   "outputs": [],
   "source": [
    "l = [1,2,1,3,5,6,7,2,1,3,5,1,3,4,1,3]\n",
    "output = [1,'one',2,1, 'one',3,5,6,7,2,1, 'one',3,4,1,'one',3]"
   ]
  },
  {
   "cell_type": "code",
   "execution_count": null,
   "id": "e30ce735",
   "metadata": {},
   "outputs": [],
   "source": [
    "ip = abc\n",
    "\n",
    "op =\n",
    "\n",
    "abc\n",
    "acb\n",
    "bac\n",
    "bca\n",
    "cab\n",
    "cba"
   ]
  },
  {
   "cell_type": "code",
   "execution_count": null,
   "id": "e795d7ca",
   "metadata": {},
   "outputs": [],
   "source": [
    "ip = aacbb"
   ]
  },
  {
   "cell_type": "code",
   "execution_count": null,
   "id": "5d8b1e2c",
   "metadata": {},
   "outputs": [],
   "source": []
  }
 ],
 "metadata": {
  "kernelspec": {
   "display_name": "Python 3 (ipykernel)",
   "language": "python",
   "name": "python3"
  },
  "language_info": {
   "codemirror_mode": {
    "name": "ipython",
    "version": 3
   },
   "file_extension": ".py",
   "mimetype": "text/x-python",
   "name": "python",
   "nbconvert_exporter": "python",
   "pygments_lexer": "ipython3",
   "version": "3.11.4"
  }
 },
 "nbformat": 4,
 "nbformat_minor": 5
}
